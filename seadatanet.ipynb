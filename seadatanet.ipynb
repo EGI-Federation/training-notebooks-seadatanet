{
 "cells": [
  {
   "cell_type": "markdown",
   "metadata": {},
   "source": [
    "# Example Notebook for SeaDataNet Climatology data\n",
    "Author(s): [Bjorn Backeberg](mailto:backeb@gmail.com) (backeb)\n",
    "\n",
    "Creation date: 01-Aug-2019\n",
    "\n",
    "Last updated: 04-Sept-2019\n",
    "\n",
    "---\n",
    "\n",
    "## Purpose\n",
    "\n",
    "Load SeaDataNet Climatology computed from the SeaDataNet V1.1 aggregated regional datasets. Data can be downloaded [here](https://www.seadatanet.org/Products#/search?from=1&to=20).\n",
    "\n",
    "Plot on map using cartopy"
   ]
  },
  {
   "cell_type": "markdown",
   "metadata": {},
   "source": [
    "## Import necessary libraries"
   ]
  },
  {
   "cell_type": "code",
   "execution_count": null,
   "metadata": {},
   "outputs": [],
   "source": [
    "# EGI Datahub\n",
    "import os\n",
    "import requests\n",
    "from fs.onedatafs import OnedataFS\n",
    "\n",
    "\n",
    "import xarray as xr\n",
    "import numpy as np\n",
    "import pandas as pd\n",
    "import cartopy.crs as ccrs\n",
    "import cartopy.feature as cfeature\n",
    "import matplotlib.pyplot as plt"
   ]
  },
  {
   "cell_type": "markdown",
   "metadata": {},
   "source": [
    "## Import dataset\n",
    "\n",
    "### Resolve PID in DataHub"
   ]
  },
  {
   "cell_type": "code",
   "execution_count": null,
   "metadata": {},
   "outputs": [],
   "source": [
    "# First get DataHub share from handle\n",
    "PID = 'http://hdl.handle.net/21.T15999/qVk6JWQ'\n",
    "\n",
    "r = requests.get(PID, allow_redirects=False)\n",
    "share = os.path.basename(r.headers['Location'])\n",
    "\n",
    "# And now get the path of the file in onedata\n",
    "# From the share info\n",
    "r = requests.get('https://datahub.egi.eu/api/v3/onezone/shares/%s' % share,\n",
    "                 headers={'X-auth-token': os.environ['ONECLIENT_ACCESS_TOKEN'],\n",
    "                          'Accept': 'application/json'})\n",
    "space_id = r.json()['spaceId']\n",
    "folder_name = r.json()['name']\n",
    "# And the space info\n",
    "r = requests.get('https://%s/api/v3/oneprovider/spaces/%s' % (os.environ['ONEPROVIDER_HOST'], space_id),\n",
    "                 headers={'X-Auth-Token': os.environ['ONECLIENT_ACCESS_TOKEN']})\n",
    "space_name = r.json()['name']\n",
    "datahub_path = os.path.join('/', space_name, folder_name)\n",
    "\n",
    "print(\"Data is available at %s\" % datahub_path)"
   ]
  },
  {
   "cell_type": "markdown",
   "metadata": {},
   "source": [
    "### Open data file at DataHub"
   ]
  },
  {
   "cell_type": "code",
   "execution_count": null,
   "metadata": {},
   "outputs": [],
   "source": [
    "# Create connection to Oneprovider\n",
    "odfs = OnedataFS(os.environ['ONEPROVIDER_HOST'],\n",
    "                 os.environ['ONECLIENT_ACCESS_TOKEN'],\n",
    "                 force_direct_io=True)\n",
    "\n",
    "\n",
    "# load black arctic data\n",
    "ds1 = xr.open_dataset(odfs.open(os.path.join(datahub_path, 'SDN_Clim_Arctic_Temperature.nc'), 'rb'))\n",
    "\n",
    "# display some of the metadata\n",
    "print(ds1)"
   ]
  },
  {
   "cell_type": "code",
   "execution_count": null,
   "metadata": {},
   "outputs": [],
   "source": [
    "# load baltic data\n",
    "ds2 = xr.open_dataset(odfs.open(os.path.join(datahub_path, 'SDN_Clim_BalticSea_Temperature.nc'), 'rb'))\n"
   ]
  },
  {
   "cell_type": "code",
   "execution_count": null,
   "metadata": {},
   "outputs": [],
   "source": [
    "# and black sea data\n",
    "ds3 = xr.open_dataset(odfs.open(os.path.join(datahub_path, 'SDN_Clim_BlackSea_Temperature.nc'), 'rb'))"
   ]
  },
  {
   "cell_type": "code",
   "execution_count": null,
   "metadata": {},
   "outputs": [],
   "source": [
    "# load the data into variables for plotting\n",
    "lon1 = ds1.lon.values\n",
    "lat1 = ds1.lat.values\n",
    "depth1 = ds1.depth.values\n",
    "time1 = ds1.time.values\n",
    "temperature1 = ds1.Temperature.values\n",
    "\n",
    "lon2 = ds2.lon.values\n",
    "lat2 = ds2.lat.values\n",
    "depth2 = ds2.depth.values\n",
    "time2 = ds2.time.values\n",
    "temperature2 = ds2.Temperature.values\n",
    "\n",
    "lon3 = ds3.lon.values\n",
    "lat3 = ds3.lat.values\n",
    "depth3 = ds3.depth.values\n",
    "time3 = ds3.time.values\n",
    "temperature3 = ds3.Temperature.values"
   ]
  },
  {
   "cell_type": "markdown",
   "metadata": {},
   "source": [
    "## Plot on map using cartopy"
   ]
  },
  {
   "cell_type": "code",
   "execution_count": null,
   "metadata": {},
   "outputs": [],
   "source": [
    "tm = 6 # set time to plot, where January=0,..,July=6\n",
    "\n",
    "# instantiate the figure\n",
    "fig = plt.figure(figsize = (13, 10), dpi = 80) \n",
    "\n",
    "# set cartopy projection\n",
    "central_longitude = np.median(np.concatenate((lon1, lon2, lon3), axis = None)).round()\n",
    "central_latitude = np.median(np.concatenate((lat1, lat2, lat3), axis = None)).round()\n",
    "ax = plt.axes(projection=ccrs.NearsidePerspective(central_longitude = central_longitude,\n",
    "                                                  central_latitude = central_latitude))\n",
    "\n",
    "# define temperature colour axis bounds\n",
    "bounds = [np.nanmin(np.concatenate((temperature1, temperature2, temperature3), axis = None)), \n",
    "          np.nanmax(np.concatenate((temperature1, temperature2, temperature3), axis = None))]\n",
    "\n",
    "# plot surface data (depth = -1)\n",
    "cm = ax.pcolormesh(lon1, lat1, temperature1[tm,-1,:,:], \n",
    "              shading = 'gourand', \n",
    "              cmap = plt.cm.Spectral_r, \n",
    "              vmin = bounds[0], vmax = bounds[1],\n",
    "              transform = ccrs.PlateCarree())\n",
    "\n",
    "# plot surface data (depth = -1)\n",
    "cm = ax.pcolormesh(lon2, lat2, temperature2[tm,-1,:,:], \n",
    "              shading = 'gourand', \n",
    "              cmap = plt.cm.Spectral_r,\n",
    "              vmin = bounds[0], vmax = bounds[1],\n",
    "              transform = ccrs.PlateCarree())\n",
    "\n",
    "# plot surface data (depth = -1)\n",
    "cm = ax.pcolormesh(lon3, lat3, temperature3[tm,-1,:,:], \n",
    "              shading = 'gourand', \n",
    "              cmap = plt.cm.Spectral_r,\n",
    "              vmin = bounds[0], vmax = bounds[1],\n",
    "              transform = ccrs.PlateCarree())\n",
    "\n",
    "# create the vertical temperature colobar\n",
    "plt.colorbar(cm, orientation = 'vertical').set_label('[$^\\circ$C]')\n",
    "\n",
    "# Add a coastline profile in the figure.\n",
    "# Possible scale values = 'intermediate', 'coarse' or 'low' \n",
    "# Depending by the scale value the computation may take time\n",
    "coastline = cfeature.GSHHSFeature(scale = 'intermediate', edgecolor = 'none', facecolor = 'grey')\n",
    "ax.add_feature(coastline)\n",
    "\n",
    "# add a title\n",
    "plt.title(\"SeaDataNet Temperature for \"\n",
    "          +str((pd.to_datetime(time1[tm])).strftime('%B'))\n",
    "          +\", depth = \"+str(depth1[-1])+\"m\")\n",
    "\n",
    "plt.show()"
   ]
  },
  {
   "cell_type": "code",
   "execution_count": null,
   "metadata": {},
   "outputs": [],
   "source": []
  }
 ],
 "metadata": {
  "kernelspec": {
   "display_name": "Python 3",
   "language": "python",
   "name": "python3"
  },
  "language_info": {
   "codemirror_mode": {
    "name": "ipython",
    "version": 3
   },
   "file_extension": ".py",
   "mimetype": "text/x-python",
   "name": "python",
   "nbconvert_exporter": "python",
   "pygments_lexer": "ipython3",
   "version": "3.8.0"
  }
 },
 "nbformat": 4,
 "nbformat_minor": 2
}
