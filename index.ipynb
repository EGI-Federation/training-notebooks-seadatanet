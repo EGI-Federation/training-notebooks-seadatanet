{
 "cells": [
  {
   "cell_type": "markdown",
   "metadata": {},
   "source": [
    "# Example Notebook for SeaDataNet Climatology data\n",
    "Author(s): [Bjorn Backeberg](mailto:backeb@gmail.com) (backeb)\n",
    "\n",
    "Creation date: 01-Aug-2019\n",
    "\n",
    "Last updated: 06-Aug-2019\n",
    "\n",
    "---\n",
    "\n",
    "## Purpose\n",
    "\n",
    "Load SeaDataNet Climatology computed from the SeaDataNet V1.1 aggregated regional datasets. Data can be downloaded [here](https://www.seadatanet.org/Products#/search?from=1&to=20).\n",
    "\n",
    "Plot on map using cartopy"
   ]
  },
  {
   "cell_type": "markdown",
   "metadata": {},
   "source": [
    "## Import necessary libraries"
   ]
  },
  {
   "cell_type": "code",
   "execution_count": null,
   "metadata": {},
   "outputs": [],
   "source": [
    "# EGI Datahub\n",
    "import os\n",
    "from fs.onedatafs import OnedataFS\n",
    "\n",
    "import xarray as xr\n",
    "import numpy as np\n",
    "import pandas as pd\n",
    "import cartopy.crs as ccrs\n",
    "import cartopy.feature as cfeature\n",
    "import matplotlib.pyplot as plt"
   ]
  },
  {
   "cell_type": "markdown",
   "metadata": {},
   "source": [
    "## Import dataset"
   ]
  },
  {
   "cell_type": "code",
   "execution_count": null,
   "metadata": {},
   "outputs": [],
   "source": [
    "# Create connection to Oneprovider\n",
    "odfs = OnedataFS(os.environ['ONEPROVIDER_HOST'],\n",
    "                 os.environ['ONECLIENT_ACCESS_TOKEN'],\n",
    "                 force_direct_io=True)"
   ]
  },
  {
   "cell_type": "code",
   "execution_count": null,
   "metadata": {},
   "outputs": [],
   "source": [
    "%%time\n",
    "\n",
    "# load black arctic data\n",
    "ds1 = xr.open_dataset(odfs.open('/notebooks-training-seadatanet/data/SDN_Clim_Arctic_Temperature.nc', 'rb'))\n",
    "\n",
    "# display some of the metadata\n",
    "print(ds1)"
   ]
  },
  {
   "cell_type": "code",
   "execution_count": null,
   "metadata": {},
   "outputs": [],
   "source": [
    "%%time\n",
    "\n",
    "# load baltic data\n",
    "ds2 = xr.open_dataset(odfs.open('/notebooks-training-seadatanet/data/SDN_Clim_BalticSea_Temperature.nc', 'rb'))"
   ]
  },
  {
   "cell_type": "code",
   "execution_count": null,
   "metadata": {},
   "outputs": [],
   "source": [
    "# load the data into variables for plotting\n",
    "lon1 = ds1.lon.values\n",
    "lat1 = ds1.lat.values\n",
    "depth1 = ds1.depth.values\n",
    "time1 = ds1.time.values\n",
    "temperature1 = ds1.Temperature.values\n",
    "\n",
    "lon2 = ds2.lon.values\n",
    "lat2 = ds2.lat.values\n",
    "depth2 = ds2.depth.values\n",
    "time2 = ds2.time.values\n",
    "temperature2 = ds2.Temperature.values"
   ]
  },
  {
   "cell_type": "markdown",
   "metadata": {},
   "source": [
    "## Plot on map using cartopy"
   ]
  },
  {
   "cell_type": "code",
   "execution_count": null,
   "metadata": {},
   "outputs": [],
   "source": [
    "tm = 6 # set time to plot\n",
    "dp = -1 # set depth to plot\n",
    "\n",
    "# instantiate the figure\n",
    "fig = plt.figure(figsize = (13, 10), dpi = 80) \n",
    "\n",
    "# set cartopy projection\n",
    "central_longitude = np.median(np.concatenate((lon1, lon2), axis = None)).round()\n",
    "central_latitude = np.median(np.concatenate((lat1, lat2), axis = None)).round()\n",
    "ax = plt.axes(projection=ccrs.NearsidePerspective(central_longitude = central_longitude,\n",
    "                                                  central_latitude = central_latitude))\n",
    "# define temperature colour axis bounds\n",
    "bounds = [np.nanmin(np.concatenate((temperature1, temperature2), axis = None)), \n",
    "          np.nanmax(np.concatenate((temperature1, temperature2), axis = None))]\n",
    "\n",
    "# plot\n",
    "cm = ax.pcolormesh(lon1, lat1, temperature1[tm,dp,:,:], \n",
    "              shading = 'gourand', \n",
    "              cmap = plt.cm.Spectral_r, \n",
    "              vmin = bounds[0], vmax = bounds[1],\n",
    "              transform = ccrs.PlateCarree())\n",
    "\n",
    "cm = ax.pcolormesh(lon2, lat2, temperature2[tm,dp,:,:], \n",
    "              shading = 'gourand', \n",
    "              cmap = plt.cm.Spectral_r,\n",
    "              vmin = bounds[0], vmax = bounds[1],\n",
    "              transform = ccrs.PlateCarree())\n",
    "\n",
    "\n",
    "plt.colorbar(cm, orientation = 'vertical').set_label('[$^\\circ$C]')\n",
    "\n",
    "# add a coastline\n",
    "coastline = cfeature.GSHHSFeature(scale = 'intermediate', edgecolor = 'none', facecolor = 'grey')\n",
    "ax.add_feature(coastline)\n",
    "\n",
    "# add a title\n",
    "plt.title(\"SeaDataNet Temperature for \"\n",
    "          +str((pd.to_datetime(time1[tm])).strftime('%B'))\n",
    "          +\", depth = \"+str(depth1[dp])+\"m\")\n",
    "\n",
    "plt.show()"
   ]
  },
  {
   "cell_type": "markdown",
   "metadata": {},
   "source": [
    "# Exercise 1\n",
    "The above demo gives you an example of how to plot data from two regions on a map. We have plotted the following two data:\n",
    "  * `SDN_Clim_Arctic_Temperature.nc`\n",
    "  * `SDN_Clim_BalticSea_Temperature.nc`\n",
    "\n",
    "For this exercise you will need to add the `SDN_Clim_BlackSea_Temperature.nc` to the map. Your final map should look something like this: <br>\n",
    " ![alt text](map.png)"
   ]
  },
  {
   "cell_type": "code",
   "execution_count": null,
   "metadata": {},
   "outputs": [],
   "source": []
  },
  {
   "cell_type": "markdown",
   "metadata": {},
   "source": [
    "# Exercise 2\n",
    "\n",
    "Plot the salinity from all three regions on a map. The data files you will need are:\n",
    " * `SDN_Clim_Arctic_Salinity.nc`\n",
    " * `SDN_Clim_BalticSea_Salinity.nc`\n",
    " * `SDN_Clim_BlackSea_Salinity.nc`"
   ]
  },
  {
   "cell_type": "code",
   "execution_count": null,
   "metadata": {},
   "outputs": [],
   "source": []
  }
 ],
 "metadata": {
  "kernelspec": {
   "display_name": "Python 3",
   "language": "python",
   "name": "python3"
  },
  "language_info": {
   "codemirror_mode": {
    "name": "ipython",
    "version": 3
   },
   "file_extension": ".py",
   "mimetype": "text/x-python",
   "name": "python",
   "nbconvert_exporter": "python",
   "pygments_lexer": "ipython3",
   "version": "3.7.3"
  }
 },
 "nbformat": 4,
 "nbformat_minor": 2
}
