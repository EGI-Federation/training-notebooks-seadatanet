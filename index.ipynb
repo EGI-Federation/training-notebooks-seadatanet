{
 "cells": [
  {
   "cell_type": "markdown",
   "metadata": {},
   "source": [
    "# Example Notebook for SeaDataNet Climatology data\n",
    "Author(s): [Bjorn Backeberg](mailto:backeb@gmail.com) (backeb)\n",
    "\n",
    "Creation date: 01-Aug-2019\n",
    "\n",
    "Last updated: 06-Aug-2019\n",
    "\n",
    "---\n",
    "\n",
    "## Purpose\n",
    "\n",
    "Load SeaDataNet Climatology computed from the SeaDataNet V1.1 aggregated regional datasets. Data can be downloaded [here](https://www.seadatanet.org/Products#/search?from=1&to=20).\n",
    "\n",
    "Plot on map using cartopy"
   ]
  },
  {
   "cell_type": "markdown",
   "metadata": {},
   "source": [
    "## Import necessary libraries"
   ]
  },
  {
   "cell_type": "code",
   "execution_count": 1,
   "metadata": {},
   "outputs": [],
   "source": [
    "# EGI Datahub\n",
    "import os\n",
    "from fs.onedatafs import OnedataFS\n",
    "\n",
    "import xarray as xr\n",
    "import numpy as np\n",
    "import pandas as pd\n",
    "import cartopy.crs as ccrs\n",
    "import cartopy.feature as cfeature\n",
    "import matplotlib.pyplot as plt"
   ]
  },
  {
   "cell_type": "markdown",
   "metadata": {},
   "source": [
    "## Import dataset"
   ]
  },
  {
   "cell_type": "code",
   "execution_count": 2,
   "metadata": {},
   "outputs": [],
   "source": [
    "# Create connection to Oneprovider\n",
    "odfs = OnedataFS(os.environ['ONEPROVIDER_HOST'],\n",
    "                 os.environ['ONECLIENT_ACCESS_TOKEN'],\n",
    "                 force_direct_io=True)"
   ]
  },
  {
   "cell_type": "code",
   "execution_count": 4,
   "metadata": {},
   "outputs": [
    {
     "name": "stdout",
     "output_type": "stream",
     "text": [
      "<xarray.Dataset>\n",
      "Dimensions:                 (depth: 19, lat: 71, lon: 151, nv: 2, observations: 498728, time: 12)\n",
      "Coordinates:\n",
      "  * lon                     (lon) float32 27.0 27.1 27.2 27.3 ... 41.8 41.9 42.0\n",
      "  * lat                     (lat) float32 40.5 40.6 40.7 40.8 ... 47.3 47.4 47.5\n",
      "  * depth                   (depth) float32 2000.0 1500.0 1200.0 ... 10.0 0.0\n",
      "  * time                    (time) datetime64[ns] 1957-01-16 ... 1957-12-16\n",
      "    obslon                  (observations) float64 ...\n",
      "    obslat                  (observations) float64 ...\n",
      "    obsdepth                (observations) float64 ...\n",
      "    obstime                 (observations) datetime64[ns] ...\n",
      "Dimensions without coordinates: nv, observations\n",
      "Data variables:\n",
      "    climatology_bounds      (time, nv) float32 ...\n",
      "    CORRLEN                 (time, depth) float32 ...\n",
      "    SNR                     (time, depth) float32 ...\n",
      "    VARBACK                 (time, depth) float32 ...\n",
      "    Temperature             (time, depth, lat, lon) float32 ...\n",
      "    Temperature_err         (time, depth, lat, lon) float32 ...\n",
      "    Temperature_L1          (time, depth, lat, lon) float32 ...\n",
      "    Temperature_L2          (time, depth, lat, lon) float32 ...\n",
      "    Temperature_relerr      (time, depth, lat, lon) float32 ...\n",
      "    databins                (time, depth, lat, lon) float32 ...\n",
      "    outlbins                (time, depth, lat, lon) float32 ...\n",
      "    CLfield                 (time, depth, lat, lon) float32 ...\n",
      "    Temperature_deepest     (time, lat, lon) float32 ...\n",
      "    Temperature_deepest_L1  (time, lat, lon) float32 ...\n",
      "    Temperature_deepest_L2  (time, lat, lon) float32 ...\n",
      "    obsid                   (observations) |S51 ...\n",
      "Attributes:\n",
      "    Conventions:        CF-1.0\n",
      "    project:            SeaDataNetII: http://www.seadatanet.org/\n",
      "    institution:        IMS METU, Turkey\n",
      "    production:         SDN2 WP10 Black Sea, Sep 2015\n",
      "    data_access:        GHER OPENDAB: http://gher-diva.phys.ulg.ac.be/data/\n",
      "    WEB_visualisation:  http://gher-diva.phys.ulg.ac.be/web-vis/clim.html\n",
      "    Author_e-mail:      volodymyr@ims.metu.edu.tr\n",
      "    date:               2015-11-22 03:51:55.00\n",
      "    title:              DIVA 4D analysis of Temperature\n",
      "    file_name:          ../output/3Danalysis/Temperature.4Danl.nc\n",
      "    source:             SeaDataNet Black Sea ODV TS collection V1.1 2014\n",
      "    comment:            \n",
      "CPU times: user 4.77 s, sys: 15.2 s, total: 19.9 s\n",
      "Wall time: 20.3 s\n"
     ]
    }
   ],
   "source": [
    "%%time\n",
    "\n",
    "# load black arctic data\n",
    "ds1 = xr.open_dataset(odfs.open('/notebooks-training-seadatanet/data/SDN_Clim_Arctic_Temperature.nc', 'rb'))\n",
    "\n",
    "# display some of the metadata\n",
    "print(ds1)"
   ]
  },
  {
   "cell_type": "code",
   "execution_count": 5,
   "metadata": {},
   "outputs": [
    {
     "name": "stdout",
     "output_type": "stream",
     "text": [
      "CPU times: user 9.24 s, sys: 30 s, total: 39.3 s\n",
      "Wall time: 39.7 s\n"
     ]
    }
   ],
   "source": [
    "%%time\n",
    "\n",
    "# load baltic data\n",
    "ds2 = xr.open_dataset(odfs.open('/notebooks-training-seadatanet/data/SDN_Clim_BalticSea_Temperature.nc', 'rb'))"
   ]
  },
  {
   "cell_type": "code",
   "execution_count": 6,
   "metadata": {},
   "outputs": [],
   "source": [
    "# load the data into variables for plotting\n",
    "lon1 = ds1.lon.values\n",
    "lat1 = ds1.lat.values\n",
    "depth1 = ds1.depth.values\n",
    "time1 = ds1.time.values\n",
    "temperature1 = ds1.Temperature.values\n",
    "\n",
    "lon2 = ds2.lon.values\n",
    "lat2 = ds2.lat.values\n",
    "depth2 = ds2.depth.values\n",
    "time2 = ds2.time.values\n",
    "temperature2 = ds2.Temperature.values"
   ]
  },
  {
   "cell_type": "markdown",
   "metadata": {},
   "source": [
    "## Plot on map using cartopy"
   ]
  },
  {
   "cell_type": "code",
   "execution_count": 7,
   "metadata": {},
   "outputs": [
    {
     "ename": "TypeError",
     "evalue": "Dimensions of C (200, 200) are incompatible with X (151) and/or Y (71); see help(pcolormesh)",
     "output_type": "error",
     "traceback": [
      "\u001b[0;31m---------------------------------------------------------------------------\u001b[0m",
      "\u001b[0;31mTypeError\u001b[0m                                 Traceback (most recent call last)",
      "\u001b[0;32m<ipython-input-7-8fa1f2e901d1>\u001b[0m in \u001b[0;36m<module>\u001b[0;34m\u001b[0m\n\u001b[1;32m     19\u001b[0m               \u001b[0mcmap\u001b[0m \u001b[0;34m=\u001b[0m \u001b[0mplt\u001b[0m\u001b[0;34m.\u001b[0m\u001b[0mcm\u001b[0m\u001b[0;34m.\u001b[0m\u001b[0mSpectral_r\u001b[0m\u001b[0;34m,\u001b[0m\u001b[0;34m\u001b[0m\u001b[0;34m\u001b[0m\u001b[0m\n\u001b[1;32m     20\u001b[0m               \u001b[0mvmin\u001b[0m \u001b[0;34m=\u001b[0m \u001b[0mbounds\u001b[0m\u001b[0;34m[\u001b[0m\u001b[0;36m0\u001b[0m\u001b[0;34m]\u001b[0m\u001b[0;34m,\u001b[0m \u001b[0mvmax\u001b[0m \u001b[0;34m=\u001b[0m \u001b[0mbounds\u001b[0m\u001b[0;34m[\u001b[0m\u001b[0;36m1\u001b[0m\u001b[0;34m]\u001b[0m\u001b[0;34m,\u001b[0m\u001b[0;34m\u001b[0m\u001b[0;34m\u001b[0m\u001b[0m\n\u001b[0;32m---> 21\u001b[0;31m               transform = ccrs.PlateCarree())\n\u001b[0m\u001b[1;32m     22\u001b[0m \u001b[0;34m\u001b[0m\u001b[0m\n\u001b[1;32m     23\u001b[0m cm = ax.pcolormesh(lon_baltic, lat_baltic, temperature_baltic[tm,dp,:,:], \n",
      "\u001b[0;32m/opt/conda/lib/python3.7/site-packages/cartopy/mpl/geoaxes.py\u001b[0m in \u001b[0;36mpcolormesh\u001b[0;34m(self, *args, **kwargs)\u001b[0m\n\u001b[1;32m   1457\u001b[0m                              ' consider using PlateCarree/RotatedPole.')\n\u001b[1;32m   1458\u001b[0m         \u001b[0mkwargs\u001b[0m\u001b[0;34m.\u001b[0m\u001b[0msetdefault\u001b[0m\u001b[0;34m(\u001b[0m\u001b[0;34m'transform'\u001b[0m\u001b[0;34m,\u001b[0m \u001b[0mt\u001b[0m\u001b[0;34m)\u001b[0m\u001b[0;34m\u001b[0m\u001b[0;34m\u001b[0m\u001b[0m\n\u001b[0;32m-> 1459\u001b[0;31m         \u001b[0mresult\u001b[0m \u001b[0;34m=\u001b[0m \u001b[0mself\u001b[0m\u001b[0;34m.\u001b[0m\u001b[0m_pcolormesh_patched\u001b[0m\u001b[0;34m(\u001b[0m\u001b[0;34m*\u001b[0m\u001b[0margs\u001b[0m\u001b[0;34m,\u001b[0m \u001b[0;34m**\u001b[0m\u001b[0mkwargs\u001b[0m\u001b[0;34m)\u001b[0m\u001b[0;34m\u001b[0m\u001b[0;34m\u001b[0m\u001b[0m\n\u001b[0m\u001b[1;32m   1460\u001b[0m         \u001b[0mself\u001b[0m\u001b[0;34m.\u001b[0m\u001b[0mautoscale_view\u001b[0m\u001b[0;34m(\u001b[0m\u001b[0;34m)\u001b[0m\u001b[0;34m\u001b[0m\u001b[0;34m\u001b[0m\u001b[0m\n\u001b[1;32m   1461\u001b[0m         \u001b[0;32mreturn\u001b[0m \u001b[0mresult\u001b[0m\u001b[0;34m\u001b[0m\u001b[0;34m\u001b[0m\u001b[0m\n",
      "\u001b[0;32m/opt/conda/lib/python3.7/site-packages/cartopy/mpl/geoaxes.py\u001b[0m in \u001b[0;36m_pcolormesh_patched\u001b[0;34m(self, *args, **kwargs)\u001b[0m\n\u001b[1;32m   1489\u001b[0m         \u001b[0mallmatch\u001b[0m \u001b[0;34m=\u001b[0m \u001b[0;34m(\u001b[0m\u001b[0mshading\u001b[0m \u001b[0;34m==\u001b[0m \u001b[0;34m'gouraud'\u001b[0m\u001b[0;34m)\u001b[0m\u001b[0;34m\u001b[0m\u001b[0;34m\u001b[0m\u001b[0m\n\u001b[1;32m   1490\u001b[0m \u001b[0;34m\u001b[0m\u001b[0m\n\u001b[0;32m-> 1491\u001b[0;31m         \u001b[0mX\u001b[0m\u001b[0;34m,\u001b[0m \u001b[0mY\u001b[0m\u001b[0;34m,\u001b[0m \u001b[0mC\u001b[0m \u001b[0;34m=\u001b[0m \u001b[0mself\u001b[0m\u001b[0;34m.\u001b[0m\u001b[0m_pcolorargs\u001b[0m\u001b[0;34m(\u001b[0m\u001b[0;34m'pcolormesh'\u001b[0m\u001b[0;34m,\u001b[0m \u001b[0;34m*\u001b[0m\u001b[0margs\u001b[0m\u001b[0;34m,\u001b[0m \u001b[0mallmatch\u001b[0m\u001b[0;34m=\u001b[0m\u001b[0mallmatch\u001b[0m\u001b[0;34m)\u001b[0m\u001b[0;34m\u001b[0m\u001b[0;34m\u001b[0m\u001b[0m\n\u001b[0m\u001b[1;32m   1492\u001b[0m         \u001b[0mNy\u001b[0m\u001b[0;34m,\u001b[0m \u001b[0mNx\u001b[0m \u001b[0;34m=\u001b[0m \u001b[0mX\u001b[0m\u001b[0;34m.\u001b[0m\u001b[0mshape\u001b[0m\u001b[0;34m\u001b[0m\u001b[0;34m\u001b[0m\u001b[0m\n\u001b[1;32m   1493\u001b[0m \u001b[0;34m\u001b[0m\u001b[0m\n",
      "\u001b[0;32m/opt/conda/lib/python3.7/site-packages/matplotlib/axes/_axes.py\u001b[0m in \u001b[0;36m_pcolorargs\u001b[0;34m(funcname, allmatch, *args)\u001b[0m\n\u001b[1;32m   5750\u001b[0m                 raise TypeError('Dimensions of C %s are incompatible with'\n\u001b[1;32m   5751\u001b[0m                                 ' X (%d) and/or Y (%d); see help(%s)' % (\n\u001b[0;32m-> 5752\u001b[0;31m                                     C.shape, Nx, Ny, funcname))\n\u001b[0m\u001b[1;32m   5753\u001b[0m             \u001b[0mC\u001b[0m \u001b[0;34m=\u001b[0m \u001b[0mC\u001b[0m\u001b[0;34m[\u001b[0m\u001b[0;34m:\u001b[0m\u001b[0mNy\u001b[0m \u001b[0;34m-\u001b[0m \u001b[0;36m1\u001b[0m\u001b[0;34m,\u001b[0m \u001b[0;34m:\u001b[0m\u001b[0mNx\u001b[0m \u001b[0;34m-\u001b[0m \u001b[0;36m1\u001b[0m\u001b[0;34m]\u001b[0m\u001b[0;34m\u001b[0m\u001b[0;34m\u001b[0m\u001b[0m\n\u001b[1;32m   5754\u001b[0m         \u001b[0mC\u001b[0m \u001b[0;34m=\u001b[0m \u001b[0mcbook\u001b[0m\u001b[0;34m.\u001b[0m\u001b[0msafe_masked_invalid\u001b[0m\u001b[0;34m(\u001b[0m\u001b[0mC\u001b[0m\u001b[0;34m)\u001b[0m\u001b[0;34m\u001b[0m\u001b[0;34m\u001b[0m\u001b[0m\n",
      "\u001b[0;31mTypeError\u001b[0m: Dimensions of C (200, 200) are incompatible with X (151) and/or Y (71); see help(pcolormesh)"
     ]
    },
    {
     "data": {
      "image/png": "[encoded data removed]",
      "text/plain": [
       "<Figure size 1040x800 with 1 Axes>"
      ]
     },
     "metadata": {
      "needs_background": "light"
     },
     "output_type": "display_data"
    }
   ],
   "source": [
    "tm = 6 # set time to plot\n",
    "dp = -1 # set depth to plot\n",
    "\n",
    "# instantiate the figure\n",
    "fig = plt.figure(figsize = (13, 10), dpi = 80) \n",
    "\n",
    "# set cartopy projection\n",
    "central_longitude = np.median(np.concatenate((lon1, lon2), axis = None)).round()\n",
    "central_latitude = np.median(np.concatenate((lat1, lat2), axis = None)).round()\n",
    "ax = plt.axes(projection=ccrs.NearsidePerspective(central_longitude = central_longitude,\n",
    "                                                  central_latitude = central_latitude))\n",
    "# define temperature colour axis bounds\n",
    "bounds = [np.nanmin(np.concatenate((temperature1, temperature2), axis = None)), \n",
    "          np.nanmax(np.concatenate((temperature1, temperature2), axis = None))]\n",
    "\n",
    "# plot\n",
    "cm = ax.pcolormesh(lon1, lat1, temperature1[tm,dp,:,:], \n",
    "              shading = 'gourand', \n",
    "              cmap = plt.cm.Spectral_r, \n",
    "              vmin = bounds[0], vmax = bounds[1],\n",
    "              transform = ccrs.PlateCarree())\n",
    "\n",
    "cm = ax.pcolormesh(lon2, lat2, temperature2[tm,dp,:,:], \n",
    "              shading = 'gourand', \n",
    "              cmap = plt.cm.Spectral_r,\n",
    "              vmin = bounds[0], vmax = bounds[1],\n",
    "              transform = ccrs.PlateCarree())\n",
    "\n",
    "\n",
    "plt.colorbar(cm, orientation = 'vertical').set_label('[$^\\circ$C]')\n",
    "\n",
    "# add a coastline\n",
    "coastline = cfeature.GSHHSFeature(scale = 'intermediate', edgecolor = 'none', facecolor = 'grey')\n",
    "ax.add_feature(coastline)\n",
    "\n",
    "# add a title\n",
    "plt.title(\"SeaDataNet Temperature for \"\n",
    "          +str((pd.to_datetime(time1[tm])).strftime('%B'))\n",
    "          +\", depth = \"+str(depth1[dp])+\"m\")\n",
    "\n",
    "plt.show()"
   ]
  },
  {
   "cell_type": "markdown",
   "metadata": {},
   "source": [
    "# Exercise 1\n",
    "The above demo gives you an example of how to plot data from two regions on a map. We have plotted the following two data:\n",
    "  * `SDN_Clim_Arctic_Temperature.nc`\n",
    "  * `SDN_Clim_BalticSea_Temperature.nc`\n",
    "\n",
    "For this exercise you will need to add the `SDN_Clim_BlackSea_Temperature.nc` to the map. Your final map should look something like this: <br>\n",
    " ![alt text](image.png)"
   ]
  },
  {
   "cell_type": "code",
   "execution_count": null,
   "metadata": {},
   "outputs": [],
   "source": []
  },
  {
   "cell_type": "markdown",
   "metadata": {},
   "source": [
    "# Exercise 2\n",
    "\n",
    "Plot the salinity from all three regions on a map. The data files you will need are:\n",
    " * `SDN_Clim_Arctic_Salinity.nc`\n",
    " * `SDN_Clim_BalticSea_Salinity.nc`\n",
    " * `SDN_Clim_BlackSea_Salinity.nc`"
   ]
  },
  {
   "cell_type": "code",
   "execution_count": null,
   "metadata": {},
   "outputs": [],
   "source": []
  }
 ],
 "metadata": {
  "kernelspec": {
   "display_name": "Python 3",
   "language": "python",
   "name": "python3"
  },
  "language_info": {
   "codemirror_mode": {
    "name": "ipython",
    "version": 3
   },
   "file_extension": ".py",
   "mimetype": "text/x-python",
   "name": "python",
   "nbconvert_exporter": "python",
   "pygments_lexer": "ipython3",
   "version": "3.7.3"
  }
 },
 "nbformat": 4,
 "nbformat_minor": 2
}
